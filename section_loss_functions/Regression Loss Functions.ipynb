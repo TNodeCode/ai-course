{
 "cells": [
  {
   "cell_type": "markdown",
   "id": "236413e6-b504-4aa5-a8d7-c580d6beb4c9",
   "metadata": {},
   "source": [
    "# Regression Loss Functions\n",
    "\n",
    "In this notebook we will have a look at the L1 and L2, or respectively MAE and MSE loss functions, which are the most important loss functions when we train neural networks on regression problems."
   ]
  },
  {
   "cell_type": "code",
   "execution_count": 1,
   "id": "73fdf044-9f97-4457-903a-35422e02031e",
   "metadata": {},
   "outputs": [],
   "source": [
    "import numpy as np\n",
    "import matplotlib.pyplot as plt"
   ]
  },
  {
   "cell_type": "markdown",
   "id": "aa9e25ca-c22d-410f-85b2-0450fccb851c",
   "metadata": {},
   "source": [
    "## The L1 loss function (Mean Absolute Error)\n",
    "\n",
    "The L1 loss, or MAE, measures the average absolute difference between the predicted values and the true values. It calculates the absolute difference between each predicted value and its corresponding true value, sums up these differences, and then takes the average.\n",
    "\n",
    "Given there are $n$ data points $(x_i, y_i)$ and $n$ predictions $\\hat{y}_i$ of our model, then the L1 loss function is defined as:\n",
    "\n",
    "$$\n",
    "\\text{L1} = \\sum\\limits_{i=1}^n \\vert y_i - \\hat{y}_i \\vert\n",
    "$$\n",
    "\n",
    "**Example**:\n",
    "\n",
    "Given the three true data points $(0, 1), (1, 3), (2, 7)$ and the model predictions $(0, 1.5), (1, 2.8), (2, 7.4)$ the L1 loss would be calculated in the following way:\n",
    "\n",
    "$$\n",
    "\\text{L1} = \\vert 1 - 1.5 \\vert + \\vert 3 - 2.8 \\vert + \\vert 7 - 7.4 \\vert = 1.1\n",
    "$$"
   ]
  },
  {
   "cell_type": "code",
   "execution_count": 2,
   "id": "1cd2112e-65e1-49ce-b0eb-9f55344d0acd",
   "metadata": {},
   "outputs": [
    {
     "name": "stdout",
     "output_type": "stream",
     "text": [
      "L1 loss: 1.8000000000000003\n"
     ]
    }
   ],
   "source": [
    "# TODO compute the L1 loss for the following data points and the predictions\n",
    "data = np.array([\n",
    "    [-3, 2],\n",
    "    [2, -1],\n",
    "    [1, 4],\n",
    "    [4, 6]\n",
    "])\n",
    "\n",
    "predictions = np.array([\n",
    "    [-3, 2.2],\n",
    "    [2, -1.4],\n",
    "    [1, 4.7],\n",
    "    [4, 5.5]\n",
    "])\n",
    "\n",
    "L1 = np.abs(data[:, 1] - predictions[:, 1]).sum()\n",
    "\n",
    "print(\"L1 loss:\", L1)"
   ]
  },
  {
   "cell_type": "markdown",
   "id": "77c88dbf-925b-4dfd-aa92-b24089b8d892",
   "metadata": {},
   "source": [
    "## The L2 loss function (Mean Squared Error)\n",
    "\n",
    "The L2 loss, or MSE, measures the average squared difference between the predicted values and the true values. It calculates the squared difference between each predicted value and its corresponding true value, sums up these squared differences, and then takes the average.\n",
    "\n",
    "Given there are $n$ data points $(x_i, y_i)$ and $n$ predictions $\\hat{y}_i$ of our model, then the L1 loss function is defined as:\n",
    "\n",
    "$$\n",
    "\\text{L1} = \\sum\\limits_{i=1}^n (y_i - \\hat{y}_i)^2\n",
    "$$\n",
    "\n",
    "**Example**:\n",
    "\n",
    "Given the three true data points $(0, 1), (1, 3), (2, 7)$ and the model predictions $(0, 1.5), (1, 2.8), (2, 7.4)$ the L1 loss would be calculated in the following way:\n",
    "\n",
    "$$\n",
    "\\text{L1} = (1 - 1.5)^2 + (3 - 2.8)^2 + (7 - 7.4)^2 = 0.45\n",
    "$$"
   ]
  },
  {
   "cell_type": "code",
   "execution_count": 3,
   "id": "e5e181f0-80f7-421d-8107-81c68c1ea3de",
   "metadata": {},
   "outputs": [
    {
     "name": "stdout",
     "output_type": "stream",
     "text": [
      "L2 loss: 0.9400000000000003\n"
     ]
    }
   ],
   "source": [
    "# TODO compute the L2 loss for the following data points and the predictions\n",
    "data = np.array([\n",
    "    [-3, 2],\n",
    "    [2, -1],\n",
    "    [1, 4],\n",
    "    [4, 6]\n",
    "])\n",
    "\n",
    "predictions = np.array([\n",
    "    [-3, 2.2],\n",
    "    [2, -1.4],\n",
    "    [1, 4.7],\n",
    "    [4, 5.5]\n",
    "])\n",
    "\n",
    "L2 = np.square(data[:, 1] - predictions[:, 1]).sum()\n",
    "\n",
    "print(\"L2 loss:\", L2)"
   ]
  },
  {
   "cell_type": "markdown",
   "id": "fae76a57-857b-4b75-b5b4-74c62788b20c",
   "metadata": {},
   "source": [
    "## Comparison of both loss functions\n",
    "\n",
    "Let's see what the difference between both loss functions is. For that we plot both functions side by side"
   ]
  },
  {
   "cell_type": "code",
   "execution_count": 4,
   "id": "8c2eeb0b-b91c-44f7-aba5-791080ca42c2",
   "metadata": {},
   "outputs": [
    {
     "data": {
      "text/plain": [
       "Text(0.5, 1.0, 'L2 Loss')"
      ]
     },
     "execution_count": 4,
     "metadata": {},
     "output_type": "execute_result"
    },
    {
     "data": {
      "image/png": "[encoded data removed]",
      "text/plain": [
       "<Figure size 576x288 with 2 Axes>"
      ]
     },
     "metadata": {
      "needs_background": "light"
     },
     "output_type": "display_data"
    }
   ],
   "source": [
    "# Generate vaues for the x-axis\n",
    "x = np.linspace(-5, 5, 100)\n",
    "\n",
    "# Computing L1 and L2 loss values\n",
    "L1 = np.abs(x)\n",
    "L2 = np.square(x)\n",
    "\n",
    "# Plot L1 and L2 loss functions\n",
    "fig, ax = plt.subplots(1, 2, figsize=(8,4))\n",
    "ax[0].plot(x, L1)\n",
    "ax[0].set_title(\"L1 Loss\")\n",
    "ax[1].plot(x, L2)\n",
    "ax[1].set_title(\"L2 Loss\")"
   ]
  },
  {
   "cell_type": "markdown",
   "id": "e2723a9b-7d8f-45c9-9422-134eac6af556",
   "metadata": {},
   "source": [
    "As you can see L1 loss punishes differences between the true values and the predictions of a model in a linear way. If the difference doubles the loss also doubles.\n",
    "The L2 loss function punishes small outliers less than the L1 loss function and large outliers harder.\n",
    "\n",
    "The L1 loss is less sensitive to outliers compared to the L2 loss, as it treats all errors equally regardless of their magnitude. It is robust to extreme values and can be useful in situations where outliers need to be minimized.\n",
    "\n",
    "**Differences**:\n",
    "\n",
    "***Sensitivity to Outliers***: The L1 loss is less sensitive to outliers compared to the L2 loss. The L2 loss's squaring operation amplifies the impact of outliers, while the L1 loss treats all errors equally.\n",
    "\n",
    "***Magnitude of Errors***: The L2 loss penalizes larger errors more heavily than the L1 loss due to the squaring operation. Consequently, the L2 loss tends to produce a smoother and more spread-out solution, while the L1 loss leads to solutions that are more robust against outliers.\n",
    "\n",
    "***Optimization***: The L2 loss has a unique closed-form solution during optimization, making it easier to compute the gradient analytically. In contrast, the L1 loss lacks a closed-form solution, but it can be optimized using techniques such as subgradient methods."
   ]
  },
  {
   "cell_type": "code",
   "execution_count": null,
   "id": "ee5224cb-1245-48f2-9f3b-13c9c5e0c1b9",
   "metadata": {},
   "outputs": [],
   "source": []
  }
 ],
 "metadata": {
  "kernelspec": {
   "display_name": "Python 3",
   "language": "python",
   "name": "python3"
  },
  "language_info": {
   "codemirror_mode": {
    "name": "ipython",
    "version": 3
   },
   "file_extension": ".py",
   "mimetype": "text/x-python",
   "name": "python",
   "nbconvert_exporter": "python",
   "pygments_lexer": "ipython3",
   "version": "3.10.0"
  }
 },
 "nbformat": 4,
 "nbformat_minor": 5
}
