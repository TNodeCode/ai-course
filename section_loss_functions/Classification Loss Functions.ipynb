{
 "cells": [
  {
   "cell_type": "markdown",
   "id": "fc735888-f45d-4844-8fa0-6090d220618e",
   "metadata": {},
   "source": [
    "## Classification Loss Functions\n",
    "\n",
    "The difference between classification and regression when training neural networks is that for classification we need to predict binary vectors that indicate whether an object belongs to a given category or not. If an object belongs to category $k$ the $k-th$ component of the target vector will be one, otherwise it will be zero. Other than in regression tasks where vector components can have all real values in classification tasks the range of values is limited to the range between zero and one. This is why we need other loss functions in classification than in regression.\n",
    "\n",
    "Let's think what attributes a loss function for classification tasks must have. There are basically two extreme scenarios when we try to predict a class for an object:\n",
    "\n",
    "**First scenario**: The prediction is correct, which means the true label and the predicted label are either both zero or both one. In that case the difference between the true and predicted label is zero. The loss function should output zero for that scenario.\n",
    "\n",
    "**Second scenario**: The prediction is wrong, which means the true label is one and the prediced label is zero or vice versa. That means the difference between the predicted label and the true label is one, which is the maximum difference we can get in classification tasks. The loss function should output a large value for that scenario.\n",
    "\n",
    "We need a loss function $l(x)$ with the following attributes:\n",
    "- $f(0) = 0$\n",
    "- $f(1) = \\text{very large}$\n",
    "\n",
    "One function that has these attributes is the logarithm. Let's explore the lorarithm function:"
   ]
  },
  {
   "cell_type": "code",
   "execution_count": 1,
   "id": "33da6826-8249-45d3-b014-d397ca5e5564",
   "metadata": {},
   "outputs": [],
   "source": [
    "import numpy as np\n",
    "import matplotlib.pyplot as plt"
   ]
  },
  {
   "cell_type": "code",
   "execution_count": 2,
   "id": "5cb3649b-2e98-41ae-bb36-646df3187750",
   "metadata": {},
   "outputs": [
    {
     "data": {
      "text/plain": [
       "[<matplotlib.lines.Line2D at 0x1ee8aa3dd80>]"
      ]
     },
     "execution_count": 2,
     "metadata": {},
     "output_type": "execute_result"
    },
    {
     "data": {
      "image/png": "[encoded data removed]",
      "text/plain": [
       "<Figure size 432x288 with 1 Axes>"
      ]
     },
     "metadata": {
      "needs_background": "light"
     },
     "output_type": "display_data"
    }
   ],
   "source": [
    "x = np.linspace(0.001, 1, 100)\n",
    "y = np.log(x)\n",
    "\n",
    "plt.plot(x, y)"
   ]
  },
  {
   "cell_type": "markdown",
   "id": "471800a3-dee9-48e5-b029-ce8d883a45b1",
   "metadata": {},
   "source": [
    "But wait, that is not what we needed. The logarithm behaves exactly like the opposite of our wanted function. It has large (negative) values near zero and is zero at $x=1\". We need to modify this function to match the criteria of our desired loss function.\n",
    "\n",
    "First we need to get rid of the negative values. We can do this by multiplying the logarithm with $-1$. Then the loss function looks like this:"
   ]
  },
  {
   "cell_type": "code",
   "execution_count": 3,
   "id": "aaa5bb44-02e0-42eb-8b04-b06fba6441d4",
   "metadata": {},
   "outputs": [
    {
     "data": {
      "text/plain": [
       "[<matplotlib.lines.Line2D at 0x1ee8cb2f5e0>]"
      ]
     },
     "execution_count": 3,
     "metadata": {},
     "output_type": "execute_result"
    },
    {
     "data": {
      "image/png": "[encoded data removed]",
      "text/plain": [
       "<Figure size 432x288 with 1 Axes>"
      ]
     },
     "metadata": {
      "needs_background": "light"
     },
     "output_type": "display_data"
    }
   ],
   "source": [
    "x = np.linspace(0.001, 1, 100)\n",
    "y = - np.log(x)\n",
    "\n",
    "plt.plot(x, y)"
   ]
  },
  {
   "cell_type": "markdown",
   "id": "f120281c-f92a-4337-83c1-48bc05b2a804",
   "metadata": {},
   "source": [
    "That looks better. But we still need to flip the function, so that it becomes zero for $x=0$ and large for $x=1$. We can do this by computing the differenence between 1 and the function's input and then run this difference through the logarithm function."
   ]
  },
  {
   "cell_type": "code",
   "execution_count": 4,
   "id": "e1a0b2d8-3fca-4a07-b0f3-6f312918a45b",
   "metadata": {},
   "outputs": [
    {
     "name": "stderr",
     "output_type": "stream",
     "text": [
      "C:\\Users\\tilof\\AppData\\Local\\Temp\\ipykernel_13868\\1244499173.py:2: RuntimeWarning: divide by zero encountered in log\n",
      "  y = - np.log(1 - x)\n"
     ]
    },
    {
     "data": {
      "text/plain": [
       "[<matplotlib.lines.Line2D at 0x1ee8cbbdab0>]"
      ]
     },
     "execution_count": 4,
     "metadata": {},
     "output_type": "execute_result"
    },
    {
     "data": {
      "image/png": "[encoded data removed]",
      "text/plain": [
       "<Figure size 432x288 with 1 Axes>"
      ]
     },
     "metadata": {
      "needs_background": "light"
     },
     "output_type": "display_data"
    }
   ],
   "source": [
    "x = np.linspace(0.001, 1, 100)\n",
    "y = - np.log(1 - x)\n",
    "\n",
    "plt.plot(x, y)"
   ]
  },
  {
   "cell_type": "markdown",
   "id": "d2412f23-ea8e-4bf6-8ecd-03093d85f678",
   "metadata": {},
   "source": [
    "There is still a little problem: The logarithm function is not defined for $x=0$. If we try to compute `np.exp(0)` we will get `-inf` which means that the function is infinitely negative at that point. When training models with a logarithmic loss function we have to do a little trick. If the input of the logarithm is zero we add a very small number to it (i.e. 0.000000001) so that we get rid of `-inf`. The number added to zero should be very small so that our results do not get distorted too much."
   ]
  },
  {
   "cell_type": "markdown",
   "id": "70ed9569-6eb1-4740-a1a8-355493202a20",
   "metadata": {},
   "source": [
    "## Binary Cross Entropy Loss\n",
    "\n",
    "Let's have a look at the simplest categorical loss function - the Binary Cross Entropy Loss Function. First this loss function distinguishes two scenarios: True positive and true negative values. If the true target variable is one then the loss is calculated in the following way:\n",
    "\n",
    "$$\n",
    "L_{pos} = - \\log(\\hat{y})\n",
    "$$\n",
    "\n",
    "If the true target variable is zero then the loss is calculated in the following way:\n",
    "\n",
    "$$\n",
    "L_{neg} = - \\log(1 - \\hat{y})\n",
    "$$\n",
    "\n",
    "So the loss function could be written in the following way:\n",
    "\n",
    "```python\n",
    "if label == 0:\n",
    "    loss = - np.log(prediction)\n",
    "else:\n",
    "    loss = - np.log(1 - prediction)\n",
    "```\n",
    "\n",
    "But we can also get rid of the if-else block by introducing two new binary variabes:\n",
    "\n",
    "$$I_{pos} = y$$\n",
    "$$I_{neg} = (1-y)$$\n",
    "\n",
    "$I_{pos}$ and $I_{neg}$ indicate whether the true labe is positive or negative. If the true label is positive then $I_{pos}$ becomes one and $I_{neg}$ becomes zero. If the true label is negative $I_{pos}$ becomes zero and $I_{neg}$ becomes one. That's the pwer of binary math - we can just flip values from true to false by subtracting them from one.\n",
    "\n",
    "Now we can compute our loss with a single mathematical term without an if-else-block:\n",
    "\n",
    "$$\n",
    "L_{object} = I_{pos} \\cdot L_{pos} + I_{neg} \\cdot L_{neg} = y \\cdot \\log(\\hat{y}) + (1 - y) \\cdot \\log(1 - \\hat{y})\n",
    "$$\n",
    "\n",
    "The final thing we have to do is to sum over all losses of all $n$ objects and then computing the average of all losses by multiplying the sum of all losses with $\\frac{1}{n}$\n",
    "\n",
    "$$\n",
    "L_{BCE} = -\\frac{1}{n} \\sum\\limits_{i=1}^n y_i \\cdot \\log(\\hat{y}_i) + (1 - y_i) \\cdot \\log(1 - \\hat{y}_i)\n",
    "$$"
   ]
  },
  {
   "cell_type": "code",
   "execution_count": 5,
   "id": "0179cefe-6ec5-46ea-b68c-222cd718b7e2",
   "metadata": {},
   "outputs": [
    {
     "name": "stderr",
     "output_type": "stream",
     "text": [
      "C:\\Users\\tilof\\AppData\\Local\\Temp\\ipykernel_13868\\496100546.py:5: RuntimeWarning: divide by zero encountered in log\n",
      "  loss_neg = - np.log(1 - x)\n"
     ]
    },
    {
     "data": {
      "text/plain": [
       "Text(0.5, 1.0, 'Loss function for true negative objects')"
      ]
     },
     "execution_count": 5,
     "metadata": {},
     "output_type": "execute_result"
    },
    {
     "data": {
      "image/png": "[encoded data removed]",
      "text/plain": [
       "<Figure size 864x288 with 2 Axes>"
      ]
     },
     "metadata": {
      "needs_background": "light"
     },
     "output_type": "display_data"
    }
   ],
   "source": [
    "# Let's plot the loss function for true positive and true negative objects\n",
    "fig, ax = plt.subplots(1, 2, figsize=(12, 4))\n",
    "x = np.linspace(0.001, 1, 100)\n",
    "loss_pos = - np.log(x)\n",
    "loss_neg = - np.log(1 - x)\n",
    "ax[0].plot(x, loss_pos)\n",
    "ax[0].set_title(\"Loss function for true positive objects\")\n",
    "ax[1].plot(x, loss_neg)\n",
    "ax[1].set_title(\"Loss function for true negative objects\")"
   ]
  },
  {
   "cell_type": "markdown",
   "id": "7aa61da7-4f79-4da0-973f-4ba2cea80885",
   "metadata": {},
   "source": [
    "The plot shows you why we need to distinguish two cases in the BCE loss function. For true positive labels (label=1) the loss should be zero if the predicted label is one and large if the predicted label is zero. For true negative labels (labe=0) it has to be vice versa. If the predicted label is zero, which would be correct, the loss function needs to be zero, if the model outputs one (which would be a misclassification) the loss value needs to be large."
   ]
  },
  {
   "cell_type": "code",
   "execution_count": 6,
   "id": "74188629-59b4-44a3-9834-f5082511db5f",
   "metadata": {},
   "outputs": [
    {
     "name": "stdout",
     "output_type": "stream",
     "text": [
      "BCE loss: 0.07378336221711915\n"
     ]
    }
   ],
   "source": [
    "# TODO compute the BCE loss for the following true labels and predictions\n",
    "\n",
    "labels = np.array([0, 1, 1, 0, 0, 1, 0, 1])\n",
    "predictions = np.array([0.1, 0.85, 0.93, 0.03, 0.07, 0.99, 0.02, 0.89])\n",
    "\n",
    "loss = - (labels * np.log(predictions) + (1 - labels) * (np.log(1 - predictions))).mean()\n",
    "\n",
    "print(\"BCE loss:\", loss)"
   ]
  },
  {
   "cell_type": "markdown",
   "id": "1f19e9fb-6450-4cff-afe1-3f7002f8173f",
   "metadata": {},
   "source": [
    "## The Cross Entropy Loss Function\n",
    "\n",
    "As the name of the binary cross entropy loss function indicates it can only be used for binary classification probems, where the target variable can only be either true or false. But if we have multiple classes we need to generalize this loss function. The generalization of the binary cross entropy loss function is the cross entropy loss function which is defined in the following way:\n",
    "\n",
    "$$\n",
    "L_{CE} = -\\frac{1}{n} \\sum\\limits_{i=1}^N \\sum\\limits_{k=1}^K y_{i,k} \\cdot \\log(\\hat{y}_{i,k})\n",
    "$$\n",
    "\n",
    "Let's inspect this function. First we iterate over all $n$ objects in our dataset and then over all $K$ possible classes. The indicator variable $y_{i,k}$ can either be zero or one and indicates if the i-th object belongs to the k-th class. This indicator variable is then multiplied with the logarithm of the prediction of the model for the k-th class of the i-th object.\n",
    "\n",
    "**More Resources**:\n",
    "\n",
    "There is a good article with examples diving deeper into the CE loss function: https://towardsdatascience.com/cross-entropy-loss-function-f38c4ec8643e"
   ]
  },
  {
   "cell_type": "code",
   "execution_count": 7,
   "id": "94d5c723-c782-46d0-ac46-e1a13b380fda",
   "metadata": {},
   "outputs": [
    {
     "name": "stdout",
     "output_type": "stream",
     "text": [
      "CE loss: 0.08236587680344894\n"
     ]
    }
   ],
   "source": [
    "# TODO compute the CE loss for the following true labels and predictions\n",
    "\n",
    "labels = np.array([\n",
    "    [0, 1, 0],\n",
    "    [1, 0, 0],\n",
    "    [1, 0, 0],\n",
    "    [0, 0, 1],\n",
    "    [0, 1, 0],\n",
    "])\n",
    "\n",
    "predictions = np.array([\n",
    "    [0.02, 0.94, 0.04],\n",
    "    [0.93, 0.02, 0.05],\n",
    "    [0.97, 0.02, 0.01],\n",
    "    [0.01, 0.06, 0.93],\n",
    "    [0.08, 0.84, 0.08],\n",
    "])\n",
    "\n",
    "# First compute the terms (y * log(y_hat))\n",
    "loss = labels * np.log(predictions)\n",
    "# Sum all values and multiply it with -1/n\n",
    "loss = -1/labels.shape[0] * loss.sum()\n",
    "\n",
    "print(\"CE loss:\", loss)"
   ]
  },
  {
   "cell_type": "code",
   "execution_count": null,
   "id": "fc1c5592-6393-4cdd-96a6-edf444816688",
   "metadata": {},
   "outputs": [],
   "source": []
  }
 ],
 "metadata": {
  "kernelspec": {
   "display_name": "Python 3",
   "language": "python",
   "name": "python3"
  },
  "language_info": {
   "codemirror_mode": {
    "name": "ipython",
    "version": 3
   },
   "file_extension": ".py",
   "mimetype": "text/x-python",
   "name": "python",
   "nbconvert_exporter": "python",
   "pygments_lexer": "ipython3",
   "version": "3.10.0"
  }
 },
 "nbformat": 4,
 "nbformat_minor": 5
}
